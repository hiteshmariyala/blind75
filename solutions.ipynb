{
 "cells": [
  {
   "cell_type": "markdown",
   "metadata": {},
   "source": [
    "2sum problem: Low memory, high cpu"
   ]
  },
  {
   "cell_type": "code",
   "execution_count": 15,
   "metadata": {},
   "outputs": [],
   "source": [
    "def sum2sum(input,sum):\n",
    "    for i,e in enumerate(input):\n",
    "        if sum-e in input and input.index(sum-e) != i:\n",
    "            print(i)\n",
    "            print(input.index(sum-e))\n",
    "            return        \n",
    "    print(\"False\")"
   ]
  },
  {
   "cell_type": "markdown",
   "metadata": {},
   "source": [
    "2sum problem: Low cpu, high memory"
   ]
  },
  {
   "cell_type": "code",
   "execution_count": null,
   "metadata": {},
   "outputs": [],
   "source": [
    "class Solution:\n",
    "    def twoSum(self, nums: List[int], target: int) -> List[int]:\n",
    "        dictt=dict()\n",
    "        for i in range(len(nums)):\n",
    "            offset=target-nums[i]\n",
    "            if  offset in dictt:\n",
    "                return [i,dictt.get(offset)]\n",
    "            dictt[nums[i]]=i    "
   ]
  },
  {
   "cell_type": "code",
   "execution_count": 18,
   "metadata": {},
   "outputs": [
    {
     "name": "stdout",
     "output_type": "stream",
     "text": [
      "False\n"
     ]
    }
   ],
   "source": [
    "input=[1,2,3,4,5]\n",
    "sum=10\n",
    "sum2sum(input,sum)"
   ]
  },
  {
   "cell_type": "code",
   "execution_count": null,
   "metadata": {},
   "outputs": [],
   "source": [
    "class Solution:\n",
    "    def twoSum(self, nums: List[int], target: int) -> List[int]:\n",
    "        visited = dict()\n",
    "\n",
    "        for i in range(len(nums)):\n",
    "            offset = target - nums[i]\n",
    "\n",
    "            if offset in visited:\n",
    "                return [i, visited[offset]]\n",
    "            \n",
    "            visited[nums[i]] = i"
   ]
  }
 ],
 "metadata": {
  "kernelspec": {
   "display_name": "Python 3",
   "language": "python",
   "name": "python3"
  },
  "language_info": {
   "codemirror_mode": {
    "name": "ipython",
    "version": 3
   },
   "file_extension": ".py",
   "mimetype": "text/x-python",
   "name": "python",
   "nbconvert_exporter": "python",
   "pygments_lexer": "ipython3",
   "version": "3.11.9"
  }
 },
 "nbformat": 4,
 "nbformat_minor": 2
}
